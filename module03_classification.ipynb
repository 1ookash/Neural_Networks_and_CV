{
 "cells": [
  {
   "cell_type": "code",
   "execution_count": null,
   "metadata": {},
   "outputs": [],
   "source": [
    "from sklearn.datasets import make_classification\n",
    "from sklearn.model_selection import train_test_split\n",
    "import torch\n",
    "import random\n",
    "import numpy as np"
   ]
  },
  {
   "cell_type": "code",
   "execution_count": null,
   "metadata": {},
   "outputs": [],
   "source": [
    "classification = make_classification(n_samples=200,n_features=6, n_informative=5,n_redundant=1, n_classes=3)\n",
    "X_train, X_test, y_train, y_test = train_test_split(\n",
    "    classification[0], \n",
    "    classification[1], \n",
    "    test_size=0.3, \n",
    "    shuffle=True)\n",
    "\n",
    "X_train = torch.FloatTensor(X_train)\n",
    "X_test = torch.FloatTensor(X_test)\n",
    "y_train = torch.LongTensor(y_train)\n",
    "y_test = torch.LongTensor(y_test)\n",
    "  \n",
    "\n",
    "loss = torch.nn.CrossEntropyLoss()\n",
    "\n",
    "optimizer = torch.optim.Adam(classification_net.parameters(), \n",
    "                             lr=1.0e-3)"
   ]
  },
  {
   "cell_type": "code",
   "execution_count": null,
   "metadata": {},
   "outputs": [],
   "source": [
    "class ClassificationNet(torch.nn.Module):\n",
    "    def __init__(self, n_input, n_hidden_neurons):\n",
    "        super(ClassificationNet, self).__init__()\n",
    "        self.fc1 = torch.nn.Linear(n_input, n_hidden_neurons)\n",
    "        #your code Here\n",
    "        self.sm = torch.nn.Softmax(dim=1)\n",
    "\n",
    "    def forward(self, x):\n",
    "        #your code here\n",
    "        return x\n",
    "\n",
    "    def inference(self, x):\n",
    "        x = self.forward(x)\n",
    "        x = self.sm(x)\n",
    "        return x\n",
    "\n",
    "n_input = #choose number of input neurons\n",
    "n_hidden = #choose number of hidden neurons\n",
    "classification_net = ClassificationNet(n_input, n_hidden)  "
   ]
  },
  {
   "cell_type": "code",
   "execution_count": null,
   "metadata": {},
   "outputs": [],
   "source": [
    "batch_size = #choose batch size\n",
    "max_accuracy = 0\n",
    "for epoch in range(#choose number of epochs):\n",
    "    order = np.random.permutation(len(X_train))\n",
    "    for start_index in range(0, len(X_train), batch_size):\n",
    "        optimizer.zero_grad()\n",
    "\n",
    "        batch_indexes = order[start_index:start_index+batch_size]\n",
    "\n",
    "        x_batch = X_train[batch_indexes]\n",
    "        y_batch = y_train[batch_indexes]\n",
    "\n",
    "        preds = classification_net.forward(x_batch) \n",
    "\n",
    "        loss_val = loss(preds, y_batch)\n",
    "        loss_val.backward()\n",
    "\n",
    "        optimizer.step()\n",
    "    with torch.no_grad():\n",
    "        if epoch % 10 == 0:\n",
    "            test_preds = classification_net.forward(X_test)\n",
    "            test_preds = test_preds.argmax(dim=1)\n",
    "            accuracy = np.asarray((test_preds == y_test).float().mean())\n",
    "            if (accuracy > max_accuracy):\n",
    "                max_accuracy = accuracy\n",
    "print(max_accuracy > 0.7)\n",
    "#need to get True"
   ]
  }
 ],
 "metadata": {
  "kernelspec": {
   "display_name": "Python 3",
   "language": "python",
   "name": "python3"
  },
  "language_info": {
   "codemirror_mode": {
    "name": "ipython",
    "version": 3
   },
   "file_extension": ".py",
   "mimetype": "text/x-python",
   "name": "python",
   "nbconvert_exporter": "python",
   "pygments_lexer": "ipython3",
   "version": "3.5.2"
  }
 },
 "nbformat": 4,
 "nbformat_minor": 2
}
